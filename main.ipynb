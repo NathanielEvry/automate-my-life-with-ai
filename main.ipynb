{
 "cells": [
  {
   "cell_type": "markdown",
   "metadata": {},
   "source": [
    "# Automate My Life with AI Demo\n",
    "\n",
    "This notebook demonstrates how we can automate tasks using AI, specifically focusing on integrating with Gmail to manage emails. We'll be using OpenAI's API to generate responses and interact with the AI in a conversational manner.\n",
    "\n",
    "**Note**: This is a simplified demonstration intended for educational purposes.\n"
   ]
  },
  {
   "cell_type": "code",
   "execution_count": null,
   "metadata": {},
   "outputs": [],
   "source": [
    "# Import necessary libraries\n",
    "from openai import OpenAI"
   ]
  },
  {
   "cell_type": "code",
   "execution_count": null,
   "metadata": {},
   "outputs": [],
   "source": [
    "# Initialize the OpenAI client with your remote server settings\n",
    "client = OpenAI(base_url=\"http://localhost:1234/v1\", api_key=\"lm-studio\")\n",
    "\n",
    "# Print a message to confirm the client is set up\n",
    "print(\"OpenAI client initialized successfully.\")"
   ]
  },
  {
   "cell_type": "code",
   "execution_count": null,
   "metadata": {},
   "outputs": [],
   "source": [
    "# Direct-access verify the model is working\n",
    "# Initialize chat history\n",
    "history = [\n",
    "    {\"role\": \"system\", \"content\": \"Hello! Let's start helping a caring and kind user automate their life!\"}\n",
    "]\n",
    "\n",
    "# Function to display the chat history in a user-friendly format\n",
    "def display_history(history):\n",
    "    for message in history:\n",
    "        if message[\"role\"] == \"user\":\n",
    "            print(f\"You: {message['content']}\")\n",
    "        else:\n",
    "            print(f\"AI: {message['content']}\")\n"
   ]
  },
  {
   "cell_type": "code",
   "execution_count": null,
   "metadata": {},
   "outputs": [],
   "source": [
    "# Setup out functions to talk w/ the ai.\n",
    "def interact_with_ai(prompt):\n",
    "    completion = client.chat.completions.create(\n",
    "        model=\"phi2\",  # Specify your model\n",
    "        messages=history + [{\"role\": \"user\", \"content\": prompt}],\n",
    "        temperature=0.82,\n",
    "        stream=True,\n",
    "    )\n",
    "\n",
    "    new_message = {\"role\": \"assistant\", \"content\": \"\"}\n",
    "    for chunk in completion:\n",
    "        if chunk.choices[0].delta.content:\n",
    "            new_message[\"content\"] += chunk.choices[0].delta.content\n",
    "\n",
    "    history.append(new_message)\n",
    "    display_history(history[-2:])  # Display the last interaction\n",
    "\n",
    "def input_email_titles():\n",
    "    email_titles = []  # List to store the email titles\n",
    "    print(\"Enter email titles, one per line. Type 'done' when finished:\")\n",
    "\n",
    "    while True:\n",
    "        title = input()  # Take user input for an email title\n",
    "        if title.lower() == 'done':  # Break the loop if user types 'done'\n",
    "            break\n",
    "        email_titles.append(title)  # Add the title to the list\n",
    "\n",
    "    # Display the entered email titles\n",
    "    print(\"\\nEmail Titles:\")\n",
    "    for idx, title in enumerate(email_titles, 1):\n",
    "        print(f\"{idx}. {title}\")\n",
    "\n",
    "    return email_titles\n",
    "\n",
    "\n",
    "def analyze_and_comment_on_emails(email_titles):\n",
    "    # Combine the email titles into a single string for analysis\n",
    "    email_titles_str = \" | \".join(email_titles)\n",
    "\n",
    "    # Call the OpenAI API with the combined email titles\n",
    "    completion = client.chat.completions.create(\n",
    "        model=\"phi2\",  # Specify your model\n",
    "        messages=[\n",
    "            {\"role\": \"system\", \"content\": \"The user has the following email titles in their inbox: \" + email_titles_str},\n",
    "            {\"role\": \"user\", \"content\": \"Based on these email titles, we would love if you make a summary, witty comment, and/or say which to check out first!! Please make a general comment or provide insight. Thank you!\"}\n",
    "        ],\n",
    "        temperature=0.7,\n",
    "        max_tokens=600,\n",
    "    )\n",
    "\n",
    "    # Extract and print the AI's response\n",
    "    ai_response = completion.choices[0].message.content.strip()\n",
    "    print(\"\\nAI's Comment on Emails:\\n\" + ai_response)\n",
    "\n",
    "# Function to simulate the entire process\n",
    "def simulate_email_analysis():\n",
    "    # Call the function to manually input email titles\n",
    "    email_titles = input_email_titles()\n",
    "    \n",
    "    # Analyze the email titles and generate a comment\n",
    "    analyze_and_comment_on_emails(email_titles)"
   ]
  },
  {
   "cell_type": "code",
   "execution_count": null,
   "metadata": {},
   "outputs": [],
   "source": [
    "# Enter your prompt to interact with the AI\n",
    "# Use this cell to test if the AI integration is working!\n",
    "user_prompt = input(\"Enter your message to the AI: \")\n",
    "# Directly interact with the AI\n",
    "interact_with_ai(user_prompt)"
   ]
  },
  {
   "cell_type": "code",
   "execution_count": null,
   "metadata": {},
   "outputs": [],
   "source": [
    "# run the Email simulation\n",
    "simulate_email_analysis()"
   ]
  },
  {
   "cell_type": "markdown",
   "metadata": {},
   "source": [
    "## Conclusion\n",
    "\n",
    "This notebook provided a simple demonstration of how AI can assist in automating tasks, such as managing emails. By integrating such AI models into our workflows, we can enhance productivity and efficiency.\n",
    "\n",
    "Feel free to modify the prompts and interact with the AI to explore different scenarios!"
   ]
  }
 ],
 "metadata": {
  "kernelspec": {
   "display_name": "Python 3",
   "language": "python",
   "name": "python3"
  },
  "language_info": {
   "codemirror_mode": {
    "name": "ipython",
    "version": 3
   },
   "file_extension": ".py",
   "mimetype": "text/x-python",
   "name": "python",
   "nbconvert_exporter": "python",
   "pygments_lexer": "ipython3",
   "version": "3.10.6"
  }
 },
 "nbformat": 4,
 "nbformat_minor": 2
}
