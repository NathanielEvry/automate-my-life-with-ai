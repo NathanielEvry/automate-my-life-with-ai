{
 "cells": [
  {
   "cell_type": "markdown",
   "metadata": {},
   "source": [
    "# Automate My Life with AI Demo\n",
    "\n",
    "This notebook demonstrates how we can automate tasks using AI, specifically focusing on integrating with Gmail to manage emails. We'll be using OpenAI's API to generate responses and interact with the AI in a conversational manner.\n",
    "\n",
    "**Note**: This is a simplified demonstration intended for educational purposes.\n"
   ]
  },
  {
   "cell_type": "code",
   "execution_count": 2,
   "metadata": {},
   "outputs": [
    {
     "ename": "ImportError",
     "evalue": "cannot import name 'OpenAI' from 'openai' (c:\\Users\\a\\AppData\\Local\\Programs\\Python\\Python310\\lib\\site-packages\\openai\\__init__.py)",
     "output_type": "error",
     "traceback": [
      "\u001b[1;31m---------------------------------------------------------------------------\u001b[0m",
      "\u001b[1;31mImportError\u001b[0m                               Traceback (most recent call last)",
      "Cell \u001b[1;32mIn[2], line 2\u001b[0m\n\u001b[0;32m      1\u001b[0m \u001b[38;5;66;03m# Import necessary libraries\u001b[39;00m\n\u001b[1;32m----> 2\u001b[0m \u001b[38;5;28;01mfrom\u001b[39;00m \u001b[38;5;21;01mopenai\u001b[39;00m \u001b[38;5;28;01mimport\u001b[39;00m OpenAI\n",
      "\u001b[1;31mImportError\u001b[0m: cannot import name 'OpenAI' from 'openai' (c:\\Users\\a\\AppData\\Local\\Programs\\Python\\Python310\\lib\\site-packages\\openai\\__init__.py)"
     ]
    }
   ],
   "source": [
    "# Import necessary libraries\n",
    "from openai import OpenAI"
   ]
  },
  {
   "cell_type": "code",
   "execution_count": null,
   "metadata": {},
   "outputs": [],
   "source": [
    "# Initialize the OpenAI client with your remote server settings\n",
    "client = OpenAI(base_url=\"http://remotehost:1234/v1\", api_key=\"lm-studio\")\n",
    "\n",
    "# Print a message to confirm the client is set up\n",
    "print(\"OpenAI client initialized successfully.\")"
   ]
  },
  {
   "cell_type": "code",
   "execution_count": null,
   "metadata": {},
   "outputs": [],
   "source": [
    "# Initialize chat history\n",
    "history = [\n",
    "    {\"role\": \"system\", \"content\": \"Hello! Let's start automating your life with AI. How can I assist you today?\"}\n",
    "]\n",
    "\n",
    "# Function to display the chat history in a user-friendly format\n",
    "def display_history(history):\n",
    "    for message in history:\n",
    "        if message[\"role\"] == \"user\":\n",
    "            print(f\"You: {message['content']}\")\n",
    "        else:\n",
    "            print(f\"AI: {message['content']}\")"
   ]
  },
  {
   "cell_type": "code",
   "execution_count": null,
   "metadata": {},
   "outputs": [],
   "source": [
    "def interact_with_ai(prompt):\n",
    "    completion = client.chat.completions.create(\n",
    "        model=\"mistralai_mistral-7b-instruct-v0.2\",  # Specify your model\n",
    "        messages=history + [{\"role\": \"user\", \"content\": prompt}],\n",
    "        temperature=0.96,\n",
    "        stream=True,\n",
    "    )\n",
    "\n",
    "    new_message = {\"role\": \"assistant\", \"content\": \"\"}\n",
    "    for chunk in completion:\n",
    "        if chunk.choices[0].delta.content:\n",
    "            new_message[\"content\"] += chunk.choices[0].delta.content\n",
    "\n",
    "    history.append(new_message)\n",
    "    display_history(history[-2:])  # Display the last interaction"
   ]
  },
  {
   "cell_type": "code",
   "execution_count": null,
   "metadata": {},
   "outputs": [],
   "source": [
    "# Enter your prompt to interact with the AI\n",
    "user_prompt = input(\"Enter your message to the AI: \")\n",
    "interact_with_ai(user_prompt)"
   ]
  },
  {
   "cell_type": "markdown",
   "metadata": {},
   "source": [
    "## Conclusion\n",
    "\n",
    "This notebook provided a simple demonstration of how AI can assist in automating tasks, such as managing emails. By integrating such AI models into our workflows, we can enhance productivity and efficiency.\n",
    "\n",
    "Feel free to modify the prompts and interact with the AI to explore different scenarios!"
   ]
  }
 ],
 "metadata": {
  "kernelspec": {
   "display_name": "Python 3",
   "language": "python",
   "name": "python3"
  },
  "language_info": {
   "codemirror_mode": {
    "name": "ipython",
    "version": 3
   },
   "file_extension": ".py",
   "mimetype": "text/x-python",
   "name": "python",
   "nbconvert_exporter": "python",
   "pygments_lexer": "ipython3",
   "version": "3.10.6"
  }
 },
 "nbformat": 4,
 "nbformat_minor": 2
}
